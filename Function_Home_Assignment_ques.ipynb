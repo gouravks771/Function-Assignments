{
 "cells": [
  {
   "cell_type": "code",
   "execution_count": 3,
   "metadata": {
    "colab": {
     "base_uri": "https://localhost:8080/"
    },
    "id": "xptnxiL6W9g8",
    "outputId": "83a0795d-7c56-4bfe-ac4f-d63d22a506fa"
   },
   "outputs": [
    {
     "name": "stdout",
     "output_type": "stream",
     "text": [
      "Krishhh   25\n"
     ]
    }
   ],
   "source": [
    "# Create a function that can accept two arguments name and age and print its value\n",
    "def func(x,y):\n",
    "    print(x,\" \",y)\n",
    "\n",
    "func(\"Krishhh\",\"25\")"
   ]
  },
  {
   "cell_type": "code",
   "execution_count": 4,
   "metadata": {
    "colab": {
     "base_uri": "https://localhost:8080/"
    },
    "id": "wWJ9LDlLeQ7A",
    "outputId": "da466bcf-b3c4-47d0-ac4d-584e7afaebcd"
   },
   "outputs": [
    {
     "data": {
      "text/plain": [
       "(50, 30)"
      ]
     },
     "execution_count": 4,
     "metadata": {},
     "output_type": "execute_result"
    }
   ],
   "source": [
    "#Write a function calculation() such that it can accept two variables and calculate the addition and subtraction of them. And also it must return both addition and subtraction in a single return call\n",
    "def calculation(x,y):\n",
    "    Sum = x + y\n",
    "    minus = x - y\n",
    "    return Sum,minus\n",
    "calculation(40,10)"
   ]
  },
  {
   "cell_type": "code",
   "execution_count": 9,
   "metadata": {
    "colab": {
     "base_uri": "https://localhost:8080/"
    },
    "id": "P6RQQbAVepll",
    "outputId": "719c8fb7-fb1f-4561-fa16-36dd3f6c5978"
   },
   "outputs": [
    {
     "name": "stdout",
     "output_type": "stream",
     "text": [
      "Employee  Krishan  salary is :  7000\n",
      "Employee  Krish  salary is :  9000\n"
     ]
    }
   ],
   "source": [
    "#Create a function showEmployee() in such a way that it should accept employee name, and its salary and display both. If the salary is missing in the function call assign default value 9000 to salary\n",
    "def showEmployee(name,salary = 9000):\n",
    "    print(\"Employee \",name,\" salary is : \",salary)\n",
    "    \n",
    "showEmployee(\"Krishan\",7000)\n",
    "showEmployee(\"Krish\")"
   ]
  },
  {
   "cell_type": "code",
   "execution_count": 14,
   "metadata": {
    "colab": {
     "base_uri": "https://localhost:8080/"
    },
    "id": "2w4heDEZe8pr",
    "outputId": "c4bcc48d-8b20-4096-b233-d2088fd2d8d6"
   },
   "outputs": [
    {
     "data": {
      "text/plain": [
       "20"
      ]
     },
     "execution_count": 14,
     "metadata": {},
     "output_type": "execute_result"
    }
   ],
   "source": [
    "'''Create an inner function to calculate the addition in the following way\n",
    "Create an outer function that will accept two parameters, a and b\n",
    "Create an inner function inside an outer function that will calculate the addition of a and b\n",
    "At last, an outer function will add 5 into addition and return it'''\n",
    "def outer(a,b):\n",
    "    def inner(a,b):\n",
    "        S = a + b\n",
    "        return S\n",
    "    return (inner(a,b) + 5)\n",
    "\n",
    "outer(10,5)"
   ]
  },
  {
   "cell_type": "code",
   "execution_count": 17,
   "metadata": {
    "colab": {
     "base_uri": "https://localhost:8080/"
    },
    "id": "EEy02CoNe550",
    "outputId": "b958f867-f5b9-4eeb-eece-1b929535bf92"
   },
   "outputs": [
    {
     "name": "stdout",
     "output_type": "stream",
     "text": [
      "Printing function\n"
     ]
    }
   ],
   "source": [
    "#Assign a different name to function and call it through the new name\n",
    "def func():\n",
    "    print(\"Printing function\")\n",
    "\n",
    "myfunc = func\n",
    "myfunc()"
   ]
  },
  {
   "cell_type": "code",
   "execution_count": 22,
   "metadata": {
    "colab": {
     "base_uri": "https://localhost:8080/"
    },
    "id": "k9E68nlOfs7S",
    "outputId": "6240573f-24f9-4d36-a5cb-be723b915df5"
   },
   "outputs": [
    {
     "data": {
      "text/plain": [
       "55"
      ]
     },
     "execution_count": 22,
     "metadata": {},
     "output_type": "execute_result"
    }
   ],
   "source": [
    "# Write a recursive function to calculate the sum of numbers from 0 to 10\n",
    "def Summation(x):\n",
    "    if(x == 0):\n",
    "        return 0\n",
    "    else:\n",
    "        return (x + Summation(x - 1))\n",
    "\n",
    "Summation(10)"
   ]
  }
 ],
 "metadata": {
  "colab": {
   "collapsed_sections": [],
   "name": "Function_Home_Assignment_ques.ipynb",
   "provenance": []
  },
  "kernelspec": {
   "display_name": "Python 3",
   "language": "python",
   "name": "python3"
  },
  "language_info": {
   "codemirror_mode": {
    "name": "ipython",
    "version": 3
   },
   "file_extension": ".py",
   "mimetype": "text/x-python",
   "name": "python",
   "nbconvert_exporter": "python",
   "pygments_lexer": "ipython3",
   "version": "3.8.5"
  }
 },
 "nbformat": 4,
 "nbformat_minor": 1
}
